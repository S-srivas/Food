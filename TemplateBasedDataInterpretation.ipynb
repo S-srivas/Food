{
 "cells": [
  {
   "cell_type": "code",
   "execution_count": 49,
   "metadata": {
    "scrolled": false
   },
   "outputs": [],
   "source": [
    "# I'm improrting\n",
    "import pandas as pd"
   ]
  },
  {
   "cell_type": "code",
   "execution_count": 50,
   "metadata": {},
   "outputs": [
    {
     "name": "stdout",
     "output_type": "stream",
     "text": [
      "  Quantity   Time_1   Time_2\n",
      "0   Tomato       10       20\n",
      "1   Potato        7        5\n",
      "2  Ketchup       20       25\n",
      "3  Shampoo      100      150\n"
     ]
    }
   ],
   "source": [
    "# I'm reading the Data file\n",
    "df = pd.read_csv('Data.csv')\n",
    "print (df)\n",
    "#f = df['Quantity']\n",
    "#z = f[1:2]\n",
    "#df2 = str(df1)\n",
    "#for line in df2:\n",
    "#    d = df2.split(',')\n",
    "#print (z + ' has changed from ' + d + ' to ')\n",
    "#df4 = df.drop('Quantity', axis = 1)\n",
    "#df5 = str(df4)\n",
    "#df6 = df5.strip(', ')\n",
    "#df7 = df6[15:]"
   ]
  },
  {
   "cell_type": "code",
   "execution_count": 51,
   "metadata": {
    "scrolled": true
   },
   "outputs": [
    {
     "name": "stdout",
     "output_type": "stream",
     "text": [
      "$1 has changed from $2 to $3. A change of x%.\n",
      "\n",
      "$1 has changed from $2 to $3\n",
      "\n",
      "$1 has changed by x% (Note: don't use $2, $3)\n",
      "\n",
      "$1 has changed by x% (i.e. from $2 to $3)\n"
     ]
    }
   ],
   "source": [
    "# I'm reading the Template file\n",
    "file1 = open('Templete.txt', 'r')\n",
    "fr = []\n",
    "for line in file1:\n",
    "    fr.append(line)\n",
    "    print (line)"
   ]
  },
  {
   "cell_type": "code",
   "execution_count": 52,
   "metadata": {},
   "outputs": [
    {
     "name": "stdout",
     "output_type": "stream",
     "text": [
      "Tomato 10 20\n",
      "Ketchup 20 25\n"
     ]
    }
   ],
   "source": [
    "# Access members of Data file\n",
    "df[df[\"Quantity\"] == 'Tomato'].index.tolist()\n",
    "df.iloc[:,:]\n",
    "for line in df:\n",
    "    a = df.iloc[0, 0]\n",
    "    b = df.iloc[0, 1]\n",
    "    c = df.iloc[0, 2]\n",
    "print (a, b, c)\n",
    "print (df.iloc[2,0], df.iloc[2,1], df.iloc[2,2])"
   ]
  },
  {
   "cell_type": "code",
   "execution_count": 53,
   "metadata": {},
   "outputs": [
    {
     "name": "stdout",
     "output_type": "stream",
     "text": [
      "line is = $1 has changed from $2 to $3. A change of x%.\n",
      "\n",
      "\t\n",
      "\t1\n",
      "\t2\n",
      "\t3\n",
      "['', '1 has changed from ', '2 to ', '3. A change of x%.']\n",
      "line is = $1 has changed from $2 to $3\n",
      "\n",
      "\t\n",
      "\t1\n",
      "\t2\n",
      "\t3\n",
      "['', '1 has changed from ', '2 to ', '3']\n",
      "line is = $1 has changed by x% (Note: don't use $2, $3)\n",
      "\n",
      "\t\n",
      "\t1\n",
      "\t2\n",
      "\t3\n",
      "['', \"1 has changed by x% (Note: don't use \", '2, ', '3)']\n",
      "line is = $1 has changed by x% (i.e. from $2 to $3)\n",
      "\t\n",
      "\t1\n",
      "\t2\n",
      "\t3\n",
      "['', '1 has changed by x% (i.e. from ', '2 to ', '3)']\n"
     ]
    }
   ],
   "source": [
    "# Access members of Templete file\n",
    "for line in fr:\n",
    "    print (\"line is = \" + line)\n",
    "    line = line.strip()\n",
    "    line_part = line.split('$')\n",
    "    for s in line_part:\n",
    "        print (\"\\t\" + s[0:1])\n",
    "    print (line_part)"
   ]
  },
  {
   "cell_type": "code",
   "execution_count": 76,
   "metadata": {},
   "outputs": [
    {
     "name": "stdout",
     "output_type": "stream",
     "text": [
      "\n",
      " Template line 0 is = $1 has changed from $2 to $3. A change of x%.\n",
      "\n",
      "Old line = $1 has changed from $2 to $3. A change of x%.\n",
      "New line = Tomato has changed from 10 to 20. A change of 100.0%.\n",
      "\n",
      " Template line 1 is = $1 has changed from $2 to $3\n",
      "\n",
      "Old line = $1 has changed from $2 to $3\n",
      "New line = Potato has changed from 7 to 5\n",
      "\n",
      " Template line 2 is = $1 has changed by x% (Note: don't use $2, $3)\n",
      "\n",
      "Old line = $1 has changed by x% (Note: don't use $2, $3)\n",
      "New line = Ketchup has changed by 25.0% (Note: don't use 20, 25)\n",
      "\n",
      " Template line 3 is = $1 has changed by x% (i.e. from $2 to $3)\n",
      "Old line = $1 has changed by x% (i.e. from $2 to $3)\n",
      "New line = Shampoo has changed by 50.0% (i.e. from 100 to 150)\n"
     ]
    }
   ],
   "source": [
    "# We will take a time from template\n",
    "#   get the position of numbers (columns) in the template line read\n",
    "#   get the value from data frame corresponding to that line\n",
    "#   in template line, replace column positon with data value\n",
    "#   print template line\n",
    "\n",
    "line_number = int(0)\n",
    "for line in fr:\n",
    "    print (\"\\n Template line \" + str(line_number) + \" is = \" + line)\n",
    "    line = line.strip()\n",
    "    line2 = line\n",
    "    line_part = line.split('$')\n",
    "    \n",
    "    # process each line\n",
    "    n1 = 0\n",
    "    n2 = 0\n",
    "    for s in line_part:\n",
    "        v = s[0:1].strip('')\n",
    "        if not v:\n",
    "            continue\n",
    "        # Get value for column v\n",
    "        new_value = str(df.iloc[line_number, int(v)-1])\n",
    "        #print (\"\\t Data column = \" + v + \", new value = \" + new_value)\n",
    "        # v is the template place holders\n",
    "        #print (v)\n",
    "        if v == '2':\n",
    "            n1 = int(new_value)\n",
    "        if v == '3':\n",
    "            n2 = int(new_value)\n",
    "        \n",
    "        #print (\"\\t Corresponding data is = \" + str(df.iloc[line_number, int(v)-1]))\n",
    "        line2 = line2.replace(\"$\"+str(v), new_value) \n",
    "        \n",
    "    # read next template line\n",
    "    # print (n1, n2)\n",
    "    per = ((n2 - n1) / n1) * 100\n",
    "    # print (per)\n",
    "    line2 = line2.replace(\"x\", str(per)) \n",
    "    print (\"Old line = \" + line)\n",
    "    print (\"New line = \" + line2)\n",
    "    line_number = line_number + 1\n",
    "        "
   ]
  },
  {
   "cell_type": "code",
   "execution_count": null,
   "metadata": {},
   "outputs": [],
   "source": []
  }
 ],
 "metadata": {
  "kernelspec": {
   "display_name": "Python 3",
   "language": "python",
   "name": "python3"
  },
  "language_info": {
   "codemirror_mode": {
    "name": "ipython",
    "version": 3
   },
   "file_extension": ".py",
   "mimetype": "text/x-python",
   "name": "python",
   "nbconvert_exporter": "python",
   "pygments_lexer": "ipython3",
   "version": "3.6.4"
  }
 },
 "nbformat": 4,
 "nbformat_minor": 2
}
